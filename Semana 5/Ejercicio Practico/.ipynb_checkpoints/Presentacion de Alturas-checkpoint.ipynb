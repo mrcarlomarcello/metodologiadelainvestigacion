{
 "cells": [
  {
   "cell_type": "code",
   "execution_count": 28,
   "id": "3ca10f34",
   "metadata": {},
   "outputs": [],
   "source": [
    "import pandas as pd"
   ]
  },
  {
   "cell_type": "code",
   "execution_count": 29,
   "id": "b6892c45",
   "metadata": {},
   "outputs": [],
   "source": [
    "import statistics"
   ]
  },
  {
   "cell_type": "code",
   "execution_count": 30,
   "id": "e8b8a6ba",
   "metadata": {},
   "outputs": [],
   "source": [
    "height_database = pd.read_csv('Height of Male and Female by Country 2022.csv')"
   ]
  },
  {
   "cell_type": "code",
   "execution_count": 31,
   "id": "be519931",
   "metadata": {},
   "outputs": [
    {
     "data": {
      "text/html": [
       "<div>\n",
       "<style scoped>\n",
       "    .dataframe tbody tr th:only-of-type {\n",
       "        vertical-align: middle;\n",
       "    }\n",
       "\n",
       "    .dataframe tbody tr th {\n",
       "        vertical-align: top;\n",
       "    }\n",
       "\n",
       "    .dataframe thead th {\n",
       "        text-align: right;\n",
       "    }\n",
       "</style>\n",
       "<table border=\"1\" class=\"dataframe\">\n",
       "  <thead>\n",
       "    <tr style=\"text-align: right;\">\n",
       "      <th></th>\n",
       "      <th>Rank</th>\n",
       "      <th>Country Name</th>\n",
       "      <th>Male Height in Cm</th>\n",
       "      <th>Female Height in Cm</th>\n",
       "      <th>Male Height in Ft</th>\n",
       "      <th>Female Height in Ft</th>\n",
       "    </tr>\n",
       "  </thead>\n",
       "  <tbody>\n",
       "    <tr>\n",
       "      <th>0</th>\n",
       "      <td>1</td>\n",
       "      <td>Netherlands</td>\n",
       "      <td>183.78</td>\n",
       "      <td>170.36</td>\n",
       "      <td>6.03</td>\n",
       "      <td>5.59</td>\n",
       "    </tr>\n",
       "    <tr>\n",
       "      <th>1</th>\n",
       "      <td>2</td>\n",
       "      <td>Montenegro</td>\n",
       "      <td>183.30</td>\n",
       "      <td>169.96</td>\n",
       "      <td>6.01</td>\n",
       "      <td>5.58</td>\n",
       "    </tr>\n",
       "    <tr>\n",
       "      <th>2</th>\n",
       "      <td>3</td>\n",
       "      <td>Estonia</td>\n",
       "      <td>182.79</td>\n",
       "      <td>168.66</td>\n",
       "      <td>6.00</td>\n",
       "      <td>5.53</td>\n",
       "    </tr>\n",
       "    <tr>\n",
       "      <th>3</th>\n",
       "      <td>4</td>\n",
       "      <td>Bosnia and Herzegovina</td>\n",
       "      <td>182.47</td>\n",
       "      <td>167.47</td>\n",
       "      <td>5.99</td>\n",
       "      <td>5.49</td>\n",
       "    </tr>\n",
       "    <tr>\n",
       "      <th>4</th>\n",
       "      <td>5</td>\n",
       "      <td>Iceland</td>\n",
       "      <td>182.10</td>\n",
       "      <td>168.91</td>\n",
       "      <td>5.97</td>\n",
       "      <td>5.54</td>\n",
       "    </tr>\n",
       "  </tbody>\n",
       "</table>\n",
       "</div>"
      ],
      "text/plain": [
       "   Rank            Country Name  Male Height in Cm  Female Height in Cm  \\\n",
       "0     1             Netherlands             183.78               170.36   \n",
       "1     2              Montenegro             183.30               169.96   \n",
       "2     3                 Estonia             182.79               168.66   \n",
       "3     4  Bosnia and Herzegovina             182.47               167.47   \n",
       "4     5                 Iceland             182.10               168.91   \n",
       "\n",
       "   Male Height in Ft  Female Height in Ft  \n",
       "0               6.03                 5.59  \n",
       "1               6.01                 5.58  \n",
       "2               6.00                 5.53  \n",
       "3               5.99                 5.49  \n",
       "4               5.97                 5.54  "
      ]
     },
     "execution_count": 31,
     "metadata": {},
     "output_type": "execute_result"
    }
   ],
   "source": [
    "height_database.head()"
   ]
  },
  {
   "cell_type": "code",
   "execution_count": 32,
   "id": "371406d4",
   "metadata": {},
   "outputs": [
    {
     "data": {
      "text/html": [
       "<div>\n",
       "<style scoped>\n",
       "    .dataframe tbody tr th:only-of-type {\n",
       "        vertical-align: middle;\n",
       "    }\n",
       "\n",
       "    .dataframe tbody tr th {\n",
       "        vertical-align: top;\n",
       "    }\n",
       "\n",
       "    .dataframe thead th {\n",
       "        text-align: right;\n",
       "    }\n",
       "</style>\n",
       "<table border=\"1\" class=\"dataframe\">\n",
       "  <thead>\n",
       "    <tr style=\"text-align: right;\">\n",
       "      <th></th>\n",
       "      <th>Rank</th>\n",
       "      <th>Country Name</th>\n",
       "      <th>Male Height in Cm</th>\n",
       "      <th>Female Height in Cm</th>\n",
       "      <th>Male Height in Ft</th>\n",
       "      <th>Female Height in Ft</th>\n",
       "    </tr>\n",
       "  </thead>\n",
       "  <tbody>\n",
       "    <tr>\n",
       "      <th>189</th>\n",
       "      <td>190</td>\n",
       "      <td>Madagascar</td>\n",
       "      <td>165.16</td>\n",
       "      <td>153.06</td>\n",
       "      <td>5.42</td>\n",
       "      <td>5.02</td>\n",
       "    </tr>\n",
       "    <tr>\n",
       "      <th>190</th>\n",
       "      <td>191</td>\n",
       "      <td>Bangladesh</td>\n",
       "      <td>165.08</td>\n",
       "      <td>152.38</td>\n",
       "      <td>5.42</td>\n",
       "      <td>5.00</td>\n",
       "    </tr>\n",
       "    <tr>\n",
       "      <th>191</th>\n",
       "      <td>192</td>\n",
       "      <td>Yemen</td>\n",
       "      <td>164.42</td>\n",
       "      <td>154.76</td>\n",
       "      <td>5.39</td>\n",
       "      <td>5.08</td>\n",
       "    </tr>\n",
       "    <tr>\n",
       "      <th>192</th>\n",
       "      <td>193</td>\n",
       "      <td>Nepal</td>\n",
       "      <td>164.36</td>\n",
       "      <td>152.39</td>\n",
       "      <td>5.39</td>\n",
       "      <td>5.00</td>\n",
       "    </tr>\n",
       "    <tr>\n",
       "      <th>193</th>\n",
       "      <td>194</td>\n",
       "      <td>Guatemala</td>\n",
       "      <td>164.36</td>\n",
       "      <td>150.91</td>\n",
       "      <td>5.39</td>\n",
       "      <td>4.95</td>\n",
       "    </tr>\n",
       "    <tr>\n",
       "      <th>194</th>\n",
       "      <td>195</td>\n",
       "      <td>Mozambique</td>\n",
       "      <td>164.30</td>\n",
       "      <td>155.42</td>\n",
       "      <td>5.39</td>\n",
       "      <td>5.10</td>\n",
       "    </tr>\n",
       "    <tr>\n",
       "      <th>195</th>\n",
       "      <td>196</td>\n",
       "      <td>Papua New Guinea</td>\n",
       "      <td>163.10</td>\n",
       "      <td>156.89</td>\n",
       "      <td>5.35</td>\n",
       "      <td>5.15</td>\n",
       "    </tr>\n",
       "    <tr>\n",
       "      <th>196</th>\n",
       "      <td>197</td>\n",
       "      <td>Solomon Islands</td>\n",
       "      <td>163.07</td>\n",
       "      <td>156.79</td>\n",
       "      <td>5.35</td>\n",
       "      <td>5.14</td>\n",
       "    </tr>\n",
       "    <tr>\n",
       "      <th>197</th>\n",
       "      <td>198</td>\n",
       "      <td>Laos</td>\n",
       "      <td>162.78</td>\n",
       "      <td>153.10</td>\n",
       "      <td>5.34</td>\n",
       "      <td>5.02</td>\n",
       "    </tr>\n",
       "    <tr>\n",
       "      <th>198</th>\n",
       "      <td>199</td>\n",
       "      <td>Timor-Leste</td>\n",
       "      <td>160.13</td>\n",
       "      <td>152.71</td>\n",
       "      <td>5.25</td>\n",
       "      <td>5.01</td>\n",
       "    </tr>\n",
       "  </tbody>\n",
       "</table>\n",
       "</div>"
      ],
      "text/plain": [
       "     Rank      Country Name  Male Height in Cm  Female Height in Cm  \\\n",
       "189   190        Madagascar             165.16               153.06   \n",
       "190   191        Bangladesh             165.08               152.38   \n",
       "191   192             Yemen             164.42               154.76   \n",
       "192   193             Nepal             164.36               152.39   \n",
       "193   194         Guatemala             164.36               150.91   \n",
       "194   195        Mozambique             164.30               155.42   \n",
       "195   196  Papua New Guinea             163.10               156.89   \n",
       "196   197   Solomon Islands             163.07               156.79   \n",
       "197   198              Laos             162.78               153.10   \n",
       "198   199       Timor-Leste             160.13               152.71   \n",
       "\n",
       "     Male Height in Ft  Female Height in Ft  \n",
       "189               5.42                 5.02  \n",
       "190               5.42                 5.00  \n",
       "191               5.39                 5.08  \n",
       "192               5.39                 5.00  \n",
       "193               5.39                 4.95  \n",
       "194               5.39                 5.10  \n",
       "195               5.35                 5.15  \n",
       "196               5.35                 5.14  \n",
       "197               5.34                 5.02  \n",
       "198               5.25                 5.01  "
      ]
     },
     "execution_count": 32,
     "metadata": {},
     "output_type": "execute_result"
    }
   ],
   "source": [
    "height_database.tail(10)"
   ]
  },
  {
   "cell_type": "code",
   "execution_count": 33,
   "id": "975a18ac",
   "metadata": {},
   "outputs": [
    {
     "data": {
      "text/html": [
       "<div>\n",
       "<style scoped>\n",
       "    .dataframe tbody tr th:only-of-type {\n",
       "        vertical-align: middle;\n",
       "    }\n",
       "\n",
       "    .dataframe tbody tr th {\n",
       "        vertical-align: top;\n",
       "    }\n",
       "\n",
       "    .dataframe thead th {\n",
       "        text-align: right;\n",
       "    }\n",
       "</style>\n",
       "<table border=\"1\" class=\"dataframe\">\n",
       "  <thead>\n",
       "    <tr style=\"text-align: right;\">\n",
       "      <th></th>\n",
       "      <th>Rank</th>\n",
       "      <th>Country Name</th>\n",
       "      <th>Male Height in Cm</th>\n",
       "      <th>Female Height in Cm</th>\n",
       "      <th>Male Height in Ft</th>\n",
       "      <th>Female Height in Ft</th>\n",
       "    </tr>\n",
       "  </thead>\n",
       "  <tbody>\n",
       "    <tr>\n",
       "      <th>146</th>\n",
       "      <td>147</td>\n",
       "      <td>Honduras</td>\n",
       "      <td>169.59</td>\n",
       "      <td>155.18</td>\n",
       "      <td>5.56</td>\n",
       "      <td>5.09</td>\n",
       "    </tr>\n",
       "  </tbody>\n",
       "</table>\n",
       "</div>"
      ],
      "text/plain": [
       "     Rank Country Name  Male Height in Cm  Female Height in Cm  \\\n",
       "146   147     Honduras             169.59               155.18   \n",
       "\n",
       "     Male Height in Ft  Female Height in Ft  \n",
       "146               5.56                 5.09  "
      ]
     },
     "execution_count": 33,
     "metadata": {},
     "output_type": "execute_result"
    }
   ],
   "source": [
    "height_database[height_database['Country Name'] == 'Honduras']"
   ]
  },
  {
   "cell_type": "code",
   "execution_count": 34,
   "id": "ac1f9e0b",
   "metadata": {},
   "outputs": [
    {
     "data": {
      "text/html": [
       "<div>\n",
       "<style scoped>\n",
       "    .dataframe tbody tr th:only-of-type {\n",
       "        vertical-align: middle;\n",
       "    }\n",
       "\n",
       "    .dataframe tbody tr th {\n",
       "        vertical-align: top;\n",
       "    }\n",
       "\n",
       "    .dataframe thead th {\n",
       "        text-align: right;\n",
       "    }\n",
       "</style>\n",
       "<table border=\"1\" class=\"dataframe\">\n",
       "  <thead>\n",
       "    <tr style=\"text-align: right;\">\n",
       "      <th></th>\n",
       "      <th>Rank</th>\n",
       "      <th>Country Name</th>\n",
       "      <th>Male Height in Cm</th>\n",
       "      <th>Female Height in Cm</th>\n",
       "      <th>Male Height in Ft</th>\n",
       "      <th>Female Height in Ft</th>\n",
       "    </tr>\n",
       "  </thead>\n",
       "  <tbody>\n",
       "    <tr>\n",
       "      <th>193</th>\n",
       "      <td>194</td>\n",
       "      <td>Guatemala</td>\n",
       "      <td>164.36</td>\n",
       "      <td>150.91</td>\n",
       "      <td>5.39</td>\n",
       "      <td>4.95</td>\n",
       "    </tr>\n",
       "  </tbody>\n",
       "</table>\n",
       "</div>"
      ],
      "text/plain": [
       "     Rank Country Name  Male Height in Cm  Female Height in Cm  \\\n",
       "193   194    Guatemala             164.36               150.91   \n",
       "\n",
       "     Male Height in Ft  Female Height in Ft  \n",
       "193               5.39                 4.95  "
      ]
     },
     "execution_count": 34,
     "metadata": {},
     "output_type": "execute_result"
    }
   ],
   "source": [
    "height_database[height_database['Country Name'] == 'Guatemala']"
   ]
  },
  {
   "cell_type": "code",
   "execution_count": 35,
   "id": "3d481c2c",
   "metadata": {},
   "outputs": [
    {
     "data": {
      "text/html": [
       "<div>\n",
       "<style scoped>\n",
       "    .dataframe tbody tr th:only-of-type {\n",
       "        vertical-align: middle;\n",
       "    }\n",
       "\n",
       "    .dataframe tbody tr th {\n",
       "        vertical-align: top;\n",
       "    }\n",
       "\n",
       "    .dataframe thead th {\n",
       "        text-align: right;\n",
       "    }\n",
       "</style>\n",
       "<table border=\"1\" class=\"dataframe\">\n",
       "  <thead>\n",
       "    <tr style=\"text-align: right;\">\n",
       "      <th></th>\n",
       "      <th>Rank</th>\n",
       "      <th>Male Height in Cm</th>\n",
       "      <th>Female Height in Cm</th>\n",
       "      <th>Male Height in Ft</th>\n",
       "      <th>Female Height in Ft</th>\n",
       "    </tr>\n",
       "  </thead>\n",
       "  <tbody>\n",
       "    <tr>\n",
       "      <th>0</th>\n",
       "      <td>1</td>\n",
       "      <td>170.67</td>\n",
       "      <td>154.76</td>\n",
       "      <td>5.6</td>\n",
       "      <td>5.24</td>\n",
       "    </tr>\n",
       "    <tr>\n",
       "      <th>1</th>\n",
       "      <td>2</td>\n",
       "      <td>NaN</td>\n",
       "      <td>155.18</td>\n",
       "      <td>NaN</td>\n",
       "      <td>5.29</td>\n",
       "    </tr>\n",
       "    <tr>\n",
       "      <th>2</th>\n",
       "      <td>3</td>\n",
       "      <td>NaN</td>\n",
       "      <td>156.54</td>\n",
       "      <td>NaN</td>\n",
       "      <td>NaN</td>\n",
       "    </tr>\n",
       "    <tr>\n",
       "      <th>3</th>\n",
       "      <td>4</td>\n",
       "      <td>NaN</td>\n",
       "      <td>156.72</td>\n",
       "      <td>NaN</td>\n",
       "      <td>NaN</td>\n",
       "    </tr>\n",
       "    <tr>\n",
       "      <th>4</th>\n",
       "      <td>5</td>\n",
       "      <td>NaN</td>\n",
       "      <td>156.89</td>\n",
       "      <td>NaN</td>\n",
       "      <td>NaN</td>\n",
       "    </tr>\n",
       "    <tr>\n",
       "      <th>...</th>\n",
       "      <td>...</td>\n",
       "      <td>...</td>\n",
       "      <td>...</td>\n",
       "      <td>...</td>\n",
       "      <td>...</td>\n",
       "    </tr>\n",
       "    <tr>\n",
       "      <th>194</th>\n",
       "      <td>195</td>\n",
       "      <td>NaN</td>\n",
       "      <td>NaN</td>\n",
       "      <td>NaN</td>\n",
       "      <td>NaN</td>\n",
       "    </tr>\n",
       "    <tr>\n",
       "      <th>195</th>\n",
       "      <td>196</td>\n",
       "      <td>NaN</td>\n",
       "      <td>NaN</td>\n",
       "      <td>NaN</td>\n",
       "      <td>NaN</td>\n",
       "    </tr>\n",
       "    <tr>\n",
       "      <th>196</th>\n",
       "      <td>197</td>\n",
       "      <td>NaN</td>\n",
       "      <td>NaN</td>\n",
       "      <td>NaN</td>\n",
       "      <td>NaN</td>\n",
       "    </tr>\n",
       "    <tr>\n",
       "      <th>197</th>\n",
       "      <td>198</td>\n",
       "      <td>NaN</td>\n",
       "      <td>NaN</td>\n",
       "      <td>NaN</td>\n",
       "      <td>NaN</td>\n",
       "    </tr>\n",
       "    <tr>\n",
       "      <th>198</th>\n",
       "      <td>199</td>\n",
       "      <td>NaN</td>\n",
       "      <td>NaN</td>\n",
       "      <td>NaN</td>\n",
       "      <td>NaN</td>\n",
       "    </tr>\n",
       "  </tbody>\n",
       "</table>\n",
       "<p>199 rows × 5 columns</p>\n",
       "</div>"
      ],
      "text/plain": [
       "     Rank  Male Height in Cm  Female Height in Cm  Male Height in Ft  \\\n",
       "0       1             170.67               154.76                5.6   \n",
       "1       2                NaN               155.18                NaN   \n",
       "2       3                NaN               156.54                NaN   \n",
       "3       4                NaN               156.72                NaN   \n",
       "4       5                NaN               156.89                NaN   \n",
       "..    ...                ...                  ...                ...   \n",
       "194   195                NaN                  NaN                NaN   \n",
       "195   196                NaN                  NaN                NaN   \n",
       "196   197                NaN                  NaN                NaN   \n",
       "197   198                NaN                  NaN                NaN   \n",
       "198   199                NaN                  NaN                NaN   \n",
       "\n",
       "     Female Height in Ft  \n",
       "0                   5.24  \n",
       "1                   5.29  \n",
       "2                    NaN  \n",
       "3                    NaN  \n",
       "4                    NaN  \n",
       "..                   ...  \n",
       "194                  NaN  \n",
       "195                  NaN  \n",
       "196                  NaN  \n",
       "197                  NaN  \n",
       "198                  NaN  \n",
       "\n",
       "[199 rows x 5 columns]"
      ]
     },
     "execution_count": 35,
     "metadata": {},
     "output_type": "execute_result"
    }
   ],
   "source": [
    "height_database.mode(numeric_only=True)"
   ]
  },
  {
   "cell_type": "code",
   "execution_count": 9,
   "id": "2c519dc2",
   "metadata": {},
   "outputs": [
    {
     "data": {
      "text/html": [
       "<div>\n",
       "<style scoped>\n",
       "    .dataframe tbody tr th:only-of-type {\n",
       "        vertical-align: middle;\n",
       "    }\n",
       "\n",
       "    .dataframe tbody tr th {\n",
       "        vertical-align: top;\n",
       "    }\n",
       "\n",
       "    .dataframe thead th {\n",
       "        text-align: right;\n",
       "    }\n",
       "</style>\n",
       "<table border=\"1\" class=\"dataframe\">\n",
       "  <thead>\n",
       "    <tr style=\"text-align: right;\">\n",
       "      <th></th>\n",
       "      <th>Rank</th>\n",
       "      <th>Country Name</th>\n",
       "      <th>Male Height in Cm</th>\n",
       "      <th>Female Height in Cm</th>\n",
       "      <th>Male Height in Ft</th>\n",
       "      <th>Female Height in Ft</th>\n",
       "    </tr>\n",
       "  </thead>\n",
       "  <tbody>\n",
       "    <tr>\n",
       "      <th>128</th>\n",
       "      <td>129</td>\n",
       "      <td>Mongolia</td>\n",
       "      <td>170.67</td>\n",
       "      <td>159.89</td>\n",
       "      <td>5.6</td>\n",
       "      <td>5.25</td>\n",
       "    </tr>\n",
       "    <tr>\n",
       "      <th>129</th>\n",
       "      <td>130</td>\n",
       "      <td>El Salvador</td>\n",
       "      <td>170.67</td>\n",
       "      <td>156.39</td>\n",
       "      <td>5.6</td>\n",
       "      <td>5.13</td>\n",
       "    </tr>\n",
       "    <tr>\n",
       "      <th>130</th>\n",
       "      <td>131</td>\n",
       "      <td>Saudi Arabia</td>\n",
       "      <td>170.67</td>\n",
       "      <td>158.84</td>\n",
       "      <td>5.6</td>\n",
       "      <td>5.21</td>\n",
       "    </tr>\n",
       "  </tbody>\n",
       "</table>\n",
       "</div>"
      ],
      "text/plain": [
       "     Rank  Country Name  Male Height in Cm  Female Height in Cm  \\\n",
       "128   129      Mongolia             170.67               159.89   \n",
       "129   130   El Salvador             170.67               156.39   \n",
       "130   131  Saudi Arabia             170.67               158.84   \n",
       "\n",
       "     Male Height in Ft  Female Height in Ft  \n",
       "128                5.6                 5.25  \n",
       "129                5.6                 5.13  \n",
       "130                5.6                 5.21  "
      ]
     },
     "execution_count": 9,
     "metadata": {},
     "output_type": "execute_result"
    }
   ],
   "source": [
    "height_database[height_database['Male Height in Cm'] == 170.67]"
   ]
  },
  {
   "cell_type": "code",
   "execution_count": 10,
   "id": "dba2541b",
   "metadata": {},
   "outputs": [
    {
     "name": "stdout",
     "output_type": "stream",
     "text": [
      "     Rank      Country Name  Male Height in Cm  Female Height in Cm  \\\n",
      "187   188  Marshall Islands             165.26               154.76   \n",
      "191   192             Yemen             164.42               154.76   \n",
      "\n",
      "     Male Height in Ft  Female Height in Ft  \n",
      "187               5.42                 5.08  \n",
      "191               5.39                 5.08  \n",
      "     Rank Country Name  Male Height in Cm  Female Height in Cm  \\\n",
      "146   147     Honduras             169.59               155.18   \n",
      "178   179        India             166.50               155.18   \n",
      "\n",
      "     Male Height in Ft  Female Height in Ft  \n",
      "146               5.56                 5.09  \n",
      "178               5.46                 5.09  \n",
      "     Rank Country Name  Male Height in Cm  Female Height in Cm  \\\n",
      "169   170      Comoros             167.72               156.54   \n",
      "185   186      Liberia             165.48               156.54   \n",
      "\n",
      "     Male Height in Ft  Female Height in Ft  \n",
      "169               5.50                 5.14  \n",
      "185               5.43                 5.14  \n",
      "     Rank Country Name  Male Height in Cm  Female Height in Cm  \\\n",
      "167   168      Lesotho             167.92               156.72   \n",
      "182   183       Rwanda             166.02               156.72   \n",
      "\n",
      "     Male Height in Ft  Female Height in Ft  \n",
      "167               5.51                 5.14  \n",
      "182               5.45                 5.14  \n"
     ]
    }
   ],
   "source": [
    "print(height_database[height_database['Female Height in Cm']==154.76])\n",
    "print(height_database[height_database['Female Height in Cm']==155.18])\n",
    "print(height_database[height_database['Female Height in Cm']==156.54])\n",
    "print(height_database[height_database['Female Height in Cm']==156.72])"
   ]
  },
  {
   "cell_type": "code",
   "execution_count": 11,
   "id": "90e1783c",
   "metadata": {},
   "outputs": [
    {
     "data": {
      "text/plain": [
       "Rank                   100.000000\n",
       "Male Height in Cm      173.089045\n",
       "Female Height in Cm    160.942915\n",
       "Male Height in Ft        5.678794\n",
       "Female Height in Ft      5.280402\n",
       "dtype: float64"
      ]
     },
     "execution_count": 11,
     "metadata": {},
     "output_type": "execute_result"
    }
   ],
   "source": [
    "height_database.mean(numeric_only=True)"
   ]
  },
  {
   "cell_type": "code",
   "execution_count": 36,
   "id": "35e69a1d",
   "metadata": {},
   "outputs": [
    {
     "data": {
      "text/plain": [
       "Rank                   100.00\n",
       "Male Height in Cm      173.53\n",
       "Female Height in Cm    160.62\n",
       "Male Height in Ft        5.69\n",
       "Female Height in Ft      5.27\n",
       "dtype: float64"
      ]
     },
     "execution_count": 36,
     "metadata": {},
     "output_type": "execute_result"
    }
   ],
   "source": [
    "height_database.median(numeric_only=True)"
   ]
  },
  {
   "cell_type": "code",
   "execution_count": 37,
   "id": "f713ab8e",
   "metadata": {},
   "outputs": [
    {
     "data": {
      "text/html": [
       "<div>\n",
       "<style scoped>\n",
       "    .dataframe tbody tr th:only-of-type {\n",
       "        vertical-align: middle;\n",
       "    }\n",
       "\n",
       "    .dataframe tbody tr th {\n",
       "        vertical-align: top;\n",
       "    }\n",
       "\n",
       "    .dataframe thead th {\n",
       "        text-align: right;\n",
       "    }\n",
       "</style>\n",
       "<table border=\"1\" class=\"dataframe\">\n",
       "  <thead>\n",
       "    <tr style=\"text-align: right;\">\n",
       "      <th></th>\n",
       "      <th>Rank</th>\n",
       "      <th>Country Name</th>\n",
       "      <th>Male Height in Cm</th>\n",
       "      <th>Female Height in Cm</th>\n",
       "      <th>Male Height in Ft</th>\n",
       "      <th>Female Height in Ft</th>\n",
       "    </tr>\n",
       "  </thead>\n",
       "  <tbody>\n",
       "    <tr>\n",
       "      <th>99</th>\n",
       "      <td>100</td>\n",
       "      <td>Venezuela</td>\n",
       "      <td>173.53</td>\n",
       "      <td>160.04</td>\n",
       "      <td>5.69</td>\n",
       "      <td>5.25</td>\n",
       "    </tr>\n",
       "    <tr>\n",
       "      <th>100</th>\n",
       "      <td>101</td>\n",
       "      <td>Taiwan</td>\n",
       "      <td>173.53</td>\n",
       "      <td>160.70</td>\n",
       "      <td>5.69</td>\n",
       "      <td>5.27</td>\n",
       "    </tr>\n",
       "  </tbody>\n",
       "</table>\n",
       "</div>"
      ],
      "text/plain": [
       "     Rank Country Name  Male Height in Cm  Female Height in Cm  \\\n",
       "99    100    Venezuela             173.53               160.04   \n",
       "100   101       Taiwan             173.53               160.70   \n",
       "\n",
       "     Male Height in Ft  Female Height in Ft  \n",
       "99                5.69                 5.25  \n",
       "100               5.69                 5.27  "
      ]
     },
     "execution_count": 37,
     "metadata": {},
     "output_type": "execute_result"
    }
   ],
   "source": [
    "height_database[height_database['Male Height in Cm'] == 173.53]"
   ]
  },
  {
   "cell_type": "code",
   "execution_count": 13,
   "id": "c9220a9c",
   "metadata": {},
   "outputs": [
    {
     "data": {
      "text/plain": [
       "<bound method NDFrame.describe of      Rank            Country Name  Male Height in Cm  Female Height in Cm  \\\n",
       "0       1             Netherlands             183.78               170.36   \n",
       "1       2              Montenegro             183.30               169.96   \n",
       "2       3                 Estonia             182.79               168.66   \n",
       "3       4  Bosnia and Herzegovina             182.47               167.47   \n",
       "4       5                 Iceland             182.10               168.91   \n",
       "..    ...                     ...                ...                  ...   \n",
       "194   195              Mozambique             164.30               155.42   \n",
       "195   196        Papua New Guinea             163.10               156.89   \n",
       "196   197         Solomon Islands             163.07               156.79   \n",
       "197   198                    Laos             162.78               153.10   \n",
       "198   199             Timor-Leste             160.13               152.71   \n",
       "\n",
       "     Male Height in Ft  Female Height in Ft  \n",
       "0                 6.03                 5.59  \n",
       "1                 6.01                 5.58  \n",
       "2                 6.00                 5.53  \n",
       "3                 5.99                 5.49  \n",
       "4                 5.97                 5.54  \n",
       "..                 ...                  ...  \n",
       "194               5.39                 5.10  \n",
       "195               5.35                 5.15  \n",
       "196               5.35                 5.14  \n",
       "197               5.34                 5.02  \n",
       "198               5.25                 5.01  \n",
       "\n",
       "[199 rows x 6 columns]>"
      ]
     },
     "execution_count": 13,
     "metadata": {},
     "output_type": "execute_result"
    }
   ],
   "source": [
    "height_database.describe"
   ]
  },
  {
   "cell_type": "code",
   "execution_count": 15,
   "id": "78c17b19",
   "metadata": {},
   "outputs": [
    {
     "data": {
      "text/plain": [
       "4.076376702160618"
      ]
     },
     "execution_count": 15,
     "metadata": {},
     "output_type": "execute_result"
    }
   ],
   "source": [
    "statistics.stdev(height_database['Female Height in Cm'])"
   ]
  },
  {
   "cell_type": "code",
   "execution_count": 16,
   "id": "2ffb984a",
   "metadata": {},
   "outputs": [
    {
     "data": {
      "text/plain": [
       "16.616847017917877"
      ]
     },
     "execution_count": 16,
     "metadata": {},
     "output_type": "execute_result"
    }
   ],
   "source": [
    "statistics.variance(height_database['Female Height in Cm'])"
   ]
  },
  {
   "cell_type": "code",
   "execution_count": 20,
   "id": "c6d814c0",
   "metadata": {},
   "outputs": [
    {
     "data": {
      "text/plain": [
       "170.36"
      ]
     },
     "execution_count": 20,
     "metadata": {},
     "output_type": "execute_result"
    }
   ],
   "source": [
    "max(height_database['Female Height in Cm'])"
   ]
  },
  {
   "cell_type": "code",
   "execution_count": 21,
   "id": "ad43e7b0",
   "metadata": {},
   "outputs": [
    {
     "data": {
      "text/plain": [
       "150.91"
      ]
     },
     "execution_count": 21,
     "metadata": {},
     "output_type": "execute_result"
    }
   ],
   "source": [
    "min(height_database['Female Height in Cm'])"
   ]
  },
  {
   "cell_type": "code",
   "execution_count": 23,
   "id": "4cdca924",
   "metadata": {},
   "outputs": [
    {
     "name": "stdout",
     "output_type": "stream",
     "text": [
      "19.450000000000017\n"
     ]
    }
   ],
   "source": [
    "rango = max(height_database['Female Height in Cm']) - min(height_database['Female Height in Cm'])\n",
    "print(rango)"
   ]
  }
 ],
 "metadata": {
  "kernelspec": {
   "display_name": "Python 3 (ipykernel)",
   "language": "python",
   "name": "python3"
  },
  "language_info": {
   "codemirror_mode": {
    "name": "ipython",
    "version": 3
   },
   "file_extension": ".py",
   "mimetype": "text/x-python",
   "name": "python",
   "nbconvert_exporter": "python",
   "pygments_lexer": "ipython3",
   "version": "3.9.7"
  }
 },
 "nbformat": 4,
 "nbformat_minor": 5
}
